{
 "cells": [
  {
   "cell_type": "markdown",
   "id": "dd9c25c8",
   "metadata": {},
   "source": [
    "# Dowdle's Fuel Efficiency Prediction\n",
    "**Author:** Brittany Dowdle   \n",
    "**Date:** 4/13/2025   \n",
    "**Objective:** This project will demonstrate my ability to apply regression modeling techniques to a real-world dataset. I will:\n",
    "* Create and save a pipeline based model.   \n",
    "* Create a RESTful service using the model.   \n",
    "* Demonstrate receipt of  results from the service.\n",
    "\n",
    "## Introduction\n",
    "This project uses the UCI Auto MPG Dataset to detect "
   ]
  }
 ],
 "metadata": {
  "kernelspec": {
   "display_name": ".venv",
   "language": "python",
   "name": "python3"
  },
  "language_info": {
   "name": "python",
   "version": "3.12.9"
  }
 },
 "nbformat": 4,
 "nbformat_minor": 5
}
