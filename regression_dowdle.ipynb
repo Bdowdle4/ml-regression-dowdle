{
 "cells": [
  {
   "cell_type": "markdown",
   "id": "dd9c25c8",
   "metadata": {},
   "source": [
    "# Dowdle's Fuel Efficiency Prediction\n",
    "**Author:** Brittany Dowdle   \n",
    "**Date:** 4/13/2025   \n",
    "**Objective:** This project will demonstrate my ability to apply regression modeling techniques to a real-world dataset. I will:\n",
    "* Create and save a pipeline based model.   \n",
    "* Create a RESTful service using the model.   \n",
    "* Demonstrate receipt of  results from the service.\n",
    "\n",
    "## Introduction\n",
    "This project uses the UCI Auto MPG Dataset to predict fuel efficiency based on features such as cylinders, horsepower, and weight. The goal is to predict the MPG for each vehicle. I will create a regression model, split/train the data, evaluate performance using key metrics, and create visualizations to interpret the results.\n",
    "\n",
    "****\n",
    "\n",
    "## Imports\n",
    "In the code cell below are the necessary Python libraries for this notebook. *Pro Tip: All imports should be at the top of the notebook.*"
   ]
  },
  {
   "cell_type": "code",
   "execution_count": null,
   "id": "d41526d7",
   "metadata": {},
   "outputs": [],
   "source": [
    "import pandas as pd\n",
    "import numpy as np\n",
    "import matplotlib.pyplot as plt\n",
    "import seaborn as sns\n",
    "\n",
    "from sklearn.ensemble import RandomForestClassifier, AdaBoostClassifier, GradientBoostingClassifier, BaggingClassifier, VotingClassifier\n",
    "from sklearn.tree import DecisionTreeClassifier\n",
    "from sklearn.svm import SVC\n",
    "from sklearn.linear_model import LogisticRegression\n",
    "from sklearn.neighbors import KNeighborsClassifier\n",
    "from sklearn.neural_network import MLPClassifier\n",
    "\n",
    "from sklearn.preprocessing import LabelEncoder\n",
    "from sklearn.model_selection import train_test_split\n",
    "from sklearn.metrics import confusion_matrix, accuracy_score, precision_score, recall_score, f1_score"
   ]
  }
 ],
 "metadata": {
  "kernelspec": {
   "display_name": ".venv",
   "language": "python",
   "name": "python3"
  },
  "language_info": {
   "codemirror_mode": {
    "name": "ipython",
    "version": 3
   },
   "file_extension": ".py",
   "mimetype": "text/x-python",
   "name": "python",
   "nbconvert_exporter": "python",
   "pygments_lexer": "ipython3",
   "version": "3.12.9"
  }
 },
 "nbformat": 4,
 "nbformat_minor": 5
}
